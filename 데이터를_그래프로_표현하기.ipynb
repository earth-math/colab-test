{
  "nbformat": 4,
  "nbformat_minor": 0,
  "metadata": {
    "colab": {
      "provenance": [],
      "authorship_tag": "ABX9TyM4dzPBFKCyFb8SuM3c3zKR",
      "include_colab_link": true
    },
    "kernelspec": {
      "name": "python3",
      "display_name": "Python 3"
    },
    "language_info": {
      "name": "python"
    }
  },
  "cells": [
    {
      "cell_type": "markdown",
      "metadata": {
        "id": "view-in-github",
        "colab_type": "text"
      },
      "source": [
        "<a href=\"https://colab.research.google.com/github/earth-math/WS-AIcamp/blob/main/%EB%8D%B0%EC%9D%B4%ED%84%B0%EB%A5%BC_%EA%B7%B8%EB%9E%98%ED%94%84%EB%A1%9C_%ED%91%9C%ED%98%84%ED%95%98%EA%B8%B0.ipynb\" target=\"_parent\"><img src=\"https://colab.research.google.com/assets/colab-badge.svg\" alt=\"Open In Colab\"/></a>"
      ]
    },
    {
      "cell_type": "code",
      "execution_count": 8,
      "metadata": {
        "colab": {
          "base_uri": "https://localhost:8080/"
        },
        "id": "Jxm8LXUn60E6",
        "outputId": "95a461e6-014e-4f14-b9fa-339ead1768cf"
      },
      "outputs": [
        {
          "output_type": "stream",
          "name": "stdout",
          "text": [
            "Selecting previously unselected package fonts-nanum.\n",
            "(Reading database ... 122542 files and directories currently installed.)\n",
            "Preparing to unpack .../fonts-nanum_20180306-3_all.deb ...\n",
            "Unpacking fonts-nanum (20180306-3) ...\n",
            "Setting up fonts-nanum (20180306-3) ...\n",
            "Processing triggers for fontconfig (2.13.1-2ubuntu3) ...\n"
          ]
        }
      ],
      "source": [
        "# 노트북이 코랩에서 실행 중인지 체크합니다.\n",
        "import sys\n",
        "if 'google.colab' in sys.modules:\n",
        "    !echo 'debconf debconf/frontend select Noninteractive' | debconf-set-selections\n",
        "    # 나눔 폰트를 설치합니다.\n",
        "    !sudo apt-get -qq -y install fonts-nanum\n",
        "    import matplotlib.font_manager as fm\n",
        "    font_files = fm.findSystemFonts(fontpaths=['/usr/share/fonts/truetype/nanum'])\n",
        "    for fpath in font_files:\n",
        "        fm.fontManager.addfont(fpath)"
      ]
    },
    {
      "cell_type": "code",
      "source": [
        "import matplotlib.pyplot as plt\n",
        "\n",
        "# 나눔바른고딕 폰트로 설정합니다.\n",
        "plt.rc('font', family='NanumBarunGothic')\n",
        "\n",
        "# 그래프 DPI 기본값을 변경합니다.\n",
        "plt.rcParams['figure.dpi'] = 100"
      ],
      "metadata": {
        "id": "ciRPEkYh7ivl"
      },
      "execution_count": 9,
      "outputs": []
    },
    {
      "cell_type": "code",
      "source": [
        "from google.colab import drive\n",
        "drive.mount('/content/drive')"
      ],
      "metadata": {
        "colab": {
          "base_uri": "https://localhost:8080/"
        },
        "id": "UXG2Gr6O9N1E",
        "outputId": "b4106e5a-ad6e-4655-8167-693a578be659"
      },
      "execution_count": 20,
      "outputs": [
        {
          "output_type": "stream",
          "name": "stdout",
          "text": [
            "Drive already mounted at /content/drive; to attempt to forcibly remount, call drive.mount(\"/content/drive\", force_remount=True).\n"
          ]
        }
      ]
    },
    {
      "cell_type": "code",
      "source": [
        "import pandas as pd\n",
        "\n",
        "data = pd.read_csv('/content/태풍목록.csv', encoding='cp949')\n",
        "\n",
        "print(data)"
      ],
      "metadata": {
        "colab": {
          "base_uri": "https://localhost:8080/"
        },
        "id": "87_HeP0PADIC",
        "outputId": "165bb187-cdea-44df-fd5b-9d64f6c23ba5"
      },
      "execution_count": 24,
      "outputs": [
        {
          "output_type": "stream",
          "name": "stdout",
          "text": [
            "    태풍번호   태풍명        영문명 진행여부   영향도                발생                소멸  \\\n",
            "0      1  말라카스    MALAKAS   종료    없음  2022.04.08 09:00  2022.04.16 03:00   \n",
            "1      2    메기       MEGI   종료    없음  2022.04.10 09:00  2022.04.12 09:00   \n",
            "2      3    차바      CHABA   종료    없음  2022.06.30 09:00  2022.07.03 15:00   \n",
            "3      4   에어리       AERE   종료  직접영향  2022.07.01 09:00  2022.07.05 03:00   \n",
            "4      5    송다     SONGDA   종료  직접영향  2022.07.28 21:00  2022.08.01 03:00   \n",
            "5      6   트라세     TRASES   종료  직접영향  2022.07.31 12:00  2022.08.01 09:00   \n",
            "6      7    무란      MULAN   종료    없음  2022.08.09 15:00  2022.08.11 09:00   \n",
            "7      8   메아리      MEARI   종료    없음  2022.08.12 03:00  2022.08.14 21:00   \n",
            "8      9    망온      MA-ON   종료    없음  2022.08.22 12:00  2022.08.26 03:00   \n",
            "9     10   도카게     TOKAGE   종료    없음  2022.08.22 12:00  2022.08.25 21:00   \n",
            "10    11   힌남노  HINNAMNOR   종료    상륙  2022.08.28 21:00  2022.09.06 21:00   \n",
            "11    12   무이파      MUIFA   종료    없음  2022.09.08 09:00  2022.09.16 09:00   \n",
            "12    13   므르복     MERBOK   종료    없음  2022.09.12 09:00  2022.09.15 15:00   \n",
            "13    14   난마돌   NANMADOL   종료  직접영향  2022.09.14 03:00  2022.09.20 09:00   \n",
            "14    15   탈라스      TALAS   종료    없음  2022.09.23 09:00  2022.09.24 03:00   \n",
            "15    16    노루       NORU   종료    없음  2022.09.23 15:00  2022.09.28 21:00   \n",
            "16    17    꿀랍      KULAP   종료    없음  2022.09.26 09:00  2022.09.29 15:00   \n",
            "17    18    로키       ROKE   종료    없음  2022.09.28 21:00  2022.10.02 03:00   \n",
            "18    19    선까      SONCA   종료    없음  2022.10.14 15:00  2022.10.15 09:00   \n",
            "19    20    네삿      NESAT   종료    없음  2022.10.15 15:00  2022.10.20 15:00   \n",
            "20    21   하이탕    HAITANG   종료    없음  2022.10.18 15:00  2022.10.19 21:00   \n",
            "21    22    날개     NALGAE   종료    없음  2022.10.27 09:00  2022.11.03 09:00   \n",
            "22    23    바냔     BANYAN   종료    없음  2022.10.31 12:00  2022.11.01 09:00   \n",
            "23    24  야마네코   YAMANEKO   종료    없음  2022.11.12 21:00  2022.11.14 15:00   \n",
            "24    25   파카르     PAKHAR   종료    없음  2022.12.11 21:00  2022.12.13 03:00   \n",
            "\n",
            "                                                   비고  \n",
            "0      제1호 태풍 말라카스(MALAKAS)는 필리핀에서 제출한 이름으로 강력함을 의미함.  \n",
            "1             제2호 태풍 메기(MEGI)는 한국에서 제출한 이름으로 메기를 의미함.  \n",
            "2           제3호 태풍 차바(CHABA)는 태국에서 제출한 이름으로 꽃의 한 종류임.  \n",
            "3            제4호 태풍 에어리(AERE)는 미국에서 제출한 이름으로 폭풍을 의미함.  \n",
            "4           제5호 태풍 송다(SONGDA)는 베트남에서 제출한 이름으로 강의 이름임.  \n",
            "5      제6호 태풍 트라세(TRASES)는 캄보디아에서 제출한 이름으로 딱따구리를 의미함.  \n",
            "6            제7호 태풍 무란(MULAN)은 중국에서 제출한 이름으로 목란을 의미함.  \n",
            "7          제8호 태풍 메아리(MEARI)는 북한에서 제출한 이름으로 메아리를 의미함.  \n",
            "8           제9호 태풍 망온(MA-ON)은 홍콩에서 제출한 이름으로 말안장을 의미함.  \n",
            "9   제10호 태풍 도카게(TOKAGE)는 일본에서 제출한 이름으로 도마뱀자리(별자리)를...  \n",
            "10  제11호 태풍 힌남노(HINNAMNOR)는 라오스에서 제출한 이름으로 국립보호구역의...  \n",
            "11        제12호 태풍 무이파(MUIFA)는 마카오에서 제출한 이름으로 매화를 의미함.  \n",
            "12  제13호 태풍 므르복(MERBOK)은 말레이시아에서 제출한 이름으로 점박이목 비둘기...  \n",
            "13  제14호 태풍 난마돌(NANMADOL)은 미크로네시아에서 제출한 이름으로 유명한 유...  \n",
            "14      제15호 태풍 탈라스(TALAS)는 필리핀에서 제출한 이름으로 날카로움을 의미함.  \n",
            "15           제16호 태풍 노루(NORU)는 한국에서 제출한 이름으로 노루를 의미함.  \n",
            "16          제17호 태풍 꿀랍(KULAP)은 태국에서 제출한 이름으로 장미를 의미함.  \n",
            "17           제18호 태풍 로키(ROKE)는 미국에서 제출한 이름으로 남자의 이름임.  \n",
            "18        제19호 태풍 선까(SONCA)는 베트남에서 제출한 이름으로 새의 한 종류임.  \n",
            "19        제20호 태풍 네삿(NESAT)은 캄보디아에서 제출한 이름으로 낚시를 의미함.  \n",
            "20      제21호 태풍 하이탕(HAITANG)은 중국에서 제출한 이름으로 해당화를 의미함.  \n",
            "21         제22호 태풍 날개(NALGAE)는 북한에서 제출한 이름으로 날개를 의미함.  \n",
            "22       제23호 태풍 바냔(BANYAN)은 홍콩에서 제출한 이름으로 나무의 한 종류임.  \n",
            "23  제24호 태풍 야마네코(YAMANEKO)는 일본에서 제출한 이름으로 살쾡이자리(별자...  \n",
            "24  제25호 태풍 파카르(PAKHAR)는 라오스에서 제출한 이름으로 메콩강에 서식하는 ...  \n"
          ]
        }
      ]
    },
    {
      "cell_type": "code",
      "source": [
        "import pandas as pd\n",
        "\n",
        "태풍목록 = pd.read_csv('태풍목록.csv', encoding='cp949')\n",
        "태풍목록.head()"
      ],
      "metadata": {
        "colab": {
          "base_uri": "https://localhost:8080/",
          "height": 244
        },
        "id": "mxoWw9RHBN_p",
        "outputId": "5de9a184-0e6e-4014-c3db-3b1386447644"
      },
      "execution_count": 31,
      "outputs": [
        {
          "output_type": "execute_result",
          "data": {
            "text/plain": [
              "   태풍번호   태풍명      영문명 진행여부   영향도                발생                소멸  \\\n",
              "0     1  말라카스  MALAKAS   종료    없음  2022.04.08 09:00  2022.04.16 03:00   \n",
              "1     2    메기     MEGI   종료    없음  2022.04.10 09:00  2022.04.12 09:00   \n",
              "2     3    차바    CHABA   종료    없음  2022.06.30 09:00  2022.07.03 15:00   \n",
              "3     4   에어리     AERE   종료  직접영향  2022.07.01 09:00  2022.07.05 03:00   \n",
              "4     5    송다   SONGDA   종료  직접영향  2022.07.28 21:00  2022.08.01 03:00   \n",
              "\n",
              "                                               비고  \n",
              "0  제1호 태풍 말라카스(MALAKAS)는 필리핀에서 제출한 이름으로 강력함을 의미함.  \n",
              "1         제2호 태풍 메기(MEGI)는 한국에서 제출한 이름으로 메기를 의미함.  \n",
              "2       제3호 태풍 차바(CHABA)는 태국에서 제출한 이름으로 꽃의 한 종류임.  \n",
              "3        제4호 태풍 에어리(AERE)는 미국에서 제출한 이름으로 폭풍을 의미함.  \n",
              "4       제5호 태풍 송다(SONGDA)는 베트남에서 제출한 이름으로 강의 이름임.  "
            ],
            "text/html": [
              "\n",
              "  <div id=\"df-83d65366-e85b-41d0-a59e-df91f691d623\">\n",
              "    <div class=\"colab-df-container\">\n",
              "      <div>\n",
              "<style scoped>\n",
              "    .dataframe tbody tr th:only-of-type {\n",
              "        vertical-align: middle;\n",
              "    }\n",
              "\n",
              "    .dataframe tbody tr th {\n",
              "        vertical-align: top;\n",
              "    }\n",
              "\n",
              "    .dataframe thead th {\n",
              "        text-align: right;\n",
              "    }\n",
              "</style>\n",
              "<table border=\"1\" class=\"dataframe\">\n",
              "  <thead>\n",
              "    <tr style=\"text-align: right;\">\n",
              "      <th></th>\n",
              "      <th>태풍번호</th>\n",
              "      <th>태풍명</th>\n",
              "      <th>영문명</th>\n",
              "      <th>진행여부</th>\n",
              "      <th>영향도</th>\n",
              "      <th>발생</th>\n",
              "      <th>소멸</th>\n",
              "      <th>비고</th>\n",
              "    </tr>\n",
              "  </thead>\n",
              "  <tbody>\n",
              "    <tr>\n",
              "      <th>0</th>\n",
              "      <td>1</td>\n",
              "      <td>말라카스</td>\n",
              "      <td>MALAKAS</td>\n",
              "      <td>종료</td>\n",
              "      <td>없음</td>\n",
              "      <td>2022.04.08 09:00</td>\n",
              "      <td>2022.04.16 03:00</td>\n",
              "      <td>제1호 태풍 말라카스(MALAKAS)는 필리핀에서 제출한 이름으로 강력함을 의미함.</td>\n",
              "    </tr>\n",
              "    <tr>\n",
              "      <th>1</th>\n",
              "      <td>2</td>\n",
              "      <td>메기</td>\n",
              "      <td>MEGI</td>\n",
              "      <td>종료</td>\n",
              "      <td>없음</td>\n",
              "      <td>2022.04.10 09:00</td>\n",
              "      <td>2022.04.12 09:00</td>\n",
              "      <td>제2호 태풍 메기(MEGI)는 한국에서 제출한 이름으로 메기를 의미함.</td>\n",
              "    </tr>\n",
              "    <tr>\n",
              "      <th>2</th>\n",
              "      <td>3</td>\n",
              "      <td>차바</td>\n",
              "      <td>CHABA</td>\n",
              "      <td>종료</td>\n",
              "      <td>없음</td>\n",
              "      <td>2022.06.30 09:00</td>\n",
              "      <td>2022.07.03 15:00</td>\n",
              "      <td>제3호 태풍 차바(CHABA)는 태국에서 제출한 이름으로 꽃의 한 종류임.</td>\n",
              "    </tr>\n",
              "    <tr>\n",
              "      <th>3</th>\n",
              "      <td>4</td>\n",
              "      <td>에어리</td>\n",
              "      <td>AERE</td>\n",
              "      <td>종료</td>\n",
              "      <td>직접영향</td>\n",
              "      <td>2022.07.01 09:00</td>\n",
              "      <td>2022.07.05 03:00</td>\n",
              "      <td>제4호 태풍 에어리(AERE)는 미국에서 제출한 이름으로 폭풍을 의미함.</td>\n",
              "    </tr>\n",
              "    <tr>\n",
              "      <th>4</th>\n",
              "      <td>5</td>\n",
              "      <td>송다</td>\n",
              "      <td>SONGDA</td>\n",
              "      <td>종료</td>\n",
              "      <td>직접영향</td>\n",
              "      <td>2022.07.28 21:00</td>\n",
              "      <td>2022.08.01 03:00</td>\n",
              "      <td>제5호 태풍 송다(SONGDA)는 베트남에서 제출한 이름으로 강의 이름임.</td>\n",
              "    </tr>\n",
              "  </tbody>\n",
              "</table>\n",
              "</div>\n",
              "      <button class=\"colab-df-convert\" onclick=\"convertToInteractive('df-83d65366-e85b-41d0-a59e-df91f691d623')\"\n",
              "              title=\"Convert this dataframe to an interactive table.\"\n",
              "              style=\"display:none;\">\n",
              "        \n",
              "  <svg xmlns=\"http://www.w3.org/2000/svg\" height=\"24px\"viewBox=\"0 0 24 24\"\n",
              "       width=\"24px\">\n",
              "    <path d=\"M0 0h24v24H0V0z\" fill=\"none\"/>\n",
              "    <path d=\"M18.56 5.44l.94 2.06.94-2.06 2.06-.94-2.06-.94-.94-2.06-.94 2.06-2.06.94zm-11 1L8.5 8.5l.94-2.06 2.06-.94-2.06-.94L8.5 2.5l-.94 2.06-2.06.94zm10 10l.94 2.06.94-2.06 2.06-.94-2.06-.94-.94-2.06-.94 2.06-2.06.94z\"/><path d=\"M17.41 7.96l-1.37-1.37c-.4-.4-.92-.59-1.43-.59-.52 0-1.04.2-1.43.59L10.3 9.45l-7.72 7.72c-.78.78-.78 2.05 0 2.83L4 21.41c.39.39.9.59 1.41.59.51 0 1.02-.2 1.41-.59l7.78-7.78 2.81-2.81c.8-.78.8-2.07 0-2.86zM5.41 20L4 18.59l7.72-7.72 1.47 1.35L5.41 20z\"/>\n",
              "  </svg>\n",
              "      </button>\n",
              "      \n",
              "  <style>\n",
              "    .colab-df-container {\n",
              "      display:flex;\n",
              "      flex-wrap:wrap;\n",
              "      gap: 12px;\n",
              "    }\n",
              "\n",
              "    .colab-df-convert {\n",
              "      background-color: #E8F0FE;\n",
              "      border: none;\n",
              "      border-radius: 50%;\n",
              "      cursor: pointer;\n",
              "      display: none;\n",
              "      fill: #1967D2;\n",
              "      height: 32px;\n",
              "      padding: 0 0 0 0;\n",
              "      width: 32px;\n",
              "    }\n",
              "\n",
              "    .colab-df-convert:hover {\n",
              "      background-color: #E2EBFA;\n",
              "      box-shadow: 0px 1px 2px rgba(60, 64, 67, 0.3), 0px 1px 3px 1px rgba(60, 64, 67, 0.15);\n",
              "      fill: #174EA6;\n",
              "    }\n",
              "\n",
              "    [theme=dark] .colab-df-convert {\n",
              "      background-color: #3B4455;\n",
              "      fill: #D2E3FC;\n",
              "    }\n",
              "\n",
              "    [theme=dark] .colab-df-convert:hover {\n",
              "      background-color: #434B5C;\n",
              "      box-shadow: 0px 1px 3px 1px rgba(0, 0, 0, 0.15);\n",
              "      filter: drop-shadow(0px 1px 2px rgba(0, 0, 0, 0.3));\n",
              "      fill: #FFFFFF;\n",
              "    }\n",
              "  </style>\n",
              "\n",
              "      <script>\n",
              "        const buttonEl =\n",
              "          document.querySelector('#df-83d65366-e85b-41d0-a59e-df91f691d623 button.colab-df-convert');\n",
              "        buttonEl.style.display =\n",
              "          google.colab.kernel.accessAllowed ? 'block' : 'none';\n",
              "\n",
              "        async function convertToInteractive(key) {\n",
              "          const element = document.querySelector('#df-83d65366-e85b-41d0-a59e-df91f691d623');\n",
              "          const dataTable =\n",
              "            await google.colab.kernel.invokeFunction('convertToInteractive',\n",
              "                                                     [key], {});\n",
              "          if (!dataTable) return;\n",
              "\n",
              "          const docLinkHtml = 'Like what you see? Visit the ' +\n",
              "            '<a target=\"_blank\" href=https://colab.research.google.com/notebooks/data_table.ipynb>data table notebook</a>'\n",
              "            + ' to learn more about interactive tables.';\n",
              "          element.innerHTML = '';\n",
              "          dataTable['output_type'] = 'display_data';\n",
              "          await google.colab.output.renderOutput(dataTable, element);\n",
              "          const docLink = document.createElement('div');\n",
              "          docLink.innerHTML = docLinkHtml;\n",
              "          element.appendChild(docLink);\n",
              "        }\n",
              "      </script>\n",
              "    </div>\n",
              "  </div>\n",
              "  "
            ]
          },
          "metadata": {},
          "execution_count": 31
        }
      ]
    },
    {
      "cell_type": "code",
      "source": [
        "count_by = 태풍목록['영향도'].value_counts()\n",
        "count_by\n",
        "\n",
        "#주어진 코드 count_by = 태풍목록['영향도'].value_counts()는 '영향도' 열의 각 고유한 값들의 빈도를 계산하여 결과를 반환합니다. 이를 통해 해당 열의 값들이 얼마나 자주 등장하는지 확인할 수 있습니다.\n",
        "#여기서 각각의 구성 요소를 살펴보면:\n",
        "#태풍목록: 이는 데이터가 포함된 DataFrame입니다.\n",
        "#['영향도']: DataFrame에서 '영향도' 열을 선택합니다.\n",
        "#.value_counts(): 선택한 열의 고유한 값들의 빈도를 계산합니다."
      ],
      "metadata": {
        "colab": {
          "base_uri": "https://localhost:8080/"
        },
        "id": "DqV29nCUCdgk",
        "outputId": "8e905d86-1856-4a50-b2fc-bd188ae25d18"
      },
      "execution_count": 36,
      "outputs": [
        {
          "output_type": "execute_result",
          "data": {
            "text/plain": [
              "없음      20\n",
              "직접영향     4\n",
              "상륙       1\n",
              "Name: 영향도, dtype: int64"
            ]
          },
          "metadata": {},
          "execution_count": 36
        }
      ]
    },
    {
      "cell_type": "code",
      "source": [
        "import matplotlib.pyplot as plt\n",
        "plt.rcParams['figure.dpi'] = 100"
      ],
      "metadata": {
        "id": "H5a8Dx6OC-Ix"
      },
      "execution_count": 37,
      "outputs": []
    },
    {
      "cell_type": "code",
      "source": [
        "plt.plot(count_by.index, count_by.values)\n",
        "plt.title('우리나라에 영향을 준 태풍')\n",
        "plt.xlabel('영향도')\n",
        "plt.ylabel('빈도', rotation=0)\n",
        "plt.show()"
      ],
      "metadata": {
        "colab": {
          "base_uri": "https://localhost:8080/",
          "height": 471
        },
        "id": "XbajyqBtDBmm",
        "outputId": "922374c9-c015-4bd6-e0b2-0ae16c1bbf2c"
      },
      "execution_count": 43,
      "outputs": [
        {
          "output_type": "display_data",
          "data": {
            "text/plain": [
              "<Figure size 640x480 with 1 Axes>"
            ],
            "image/png": "[encoded data removed]"
          },
          "metadata": {}
        }
      ]
    },
    {
      "cell_type": "code",
      "source": [
        "plt.bar(count_by.index, count_by.values)\n",
        "plt.title('우리나라에 영향을 준 태풍')\n",
        "plt.xlabel('영향도')\n",
        "plt.ylabel('빈도', rotation=0)\n",
        "for idx, val in count_by.items():\n",
        "    plt.annotate(val, (idx, val), xytext=(0, 2), textcoords='offset points')\n",
        "plt.show()"
      ],
      "metadata": {
        "colab": {
          "base_uri": "https://localhost:8080/",
          "height": 471
        },
        "id": "Fn_t1hQuD6-m",
        "outputId": "0efa48c4-5da3-495b-a0b8-2ec71fbe6c9a"
      },
      "execution_count": 51,
      "outputs": [
        {
          "output_type": "display_data",
          "data": {
            "text/plain": [
              "<Figure size 640x480 with 1 Axes>"
            ],
            "image/png": "[encoded data removed]"
          },
          "metadata": {}
        }
      ]
    },
    {
      "cell_type": "code",
      "source": [],
      "metadata": {
        "id": "W7vP1ofkEFrE"
      },
      "execution_count": null,
      "outputs": []
    }
  ]
}